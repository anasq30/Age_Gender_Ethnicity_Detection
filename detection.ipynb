{
 "cells": [
  {
   "cell_type": "markdown",
   "metadata": {},
   "source": [
    "#Detecting Age,Ethnicity & Gender using UTKFace detection dataset."
   ]
  },
  {
   "cell_type": "code",
   "execution_count": 1,
   "metadata": {},
   "outputs": [
    {
     "name": "stdout",
     "output_type": "stream",
     "text": [
      "Requirement already satisfied: opencv-python in /opt/homebrew/Caskroom/miniforge/base/envs/mlp/lib/python3.8/site-packages (4.5.5.64)\r\n",
      "Requirement already satisfied: numpy>=1.14.5 in /opt/homebrew/Caskroom/miniforge/base/envs/mlp/lib/python3.8/site-packages (from opencv-python) (1.22.4)\r\n"
     ]
    }
   ],
   "source": [
    "!pip3 install opencv-python"
   ]
  },
  {
   "cell_type": "code",
   "execution_count": 2,
   "metadata": {},
   "outputs": [
    {
     "name": "stdout",
     "output_type": "stream",
     "text": [
      "Requirement already satisfied: matplotlib in /opt/homebrew/Caskroom/miniforge/base/envs/mlp/lib/python3.8/site-packages (3.5.2)\n",
      "Requirement already satisfied: packaging>=20.0 in /opt/homebrew/Caskroom/miniforge/base/envs/mlp/lib/python3.8/site-packages (from matplotlib) (21.3)\n",
      "Requirement already satisfied: numpy>=1.17 in /opt/homebrew/Caskroom/miniforge/base/envs/mlp/lib/python3.8/site-packages (from matplotlib) (1.22.4)\n",
      "Requirement already satisfied: cycler>=0.10 in /opt/homebrew/Caskroom/miniforge/base/envs/mlp/lib/python3.8/site-packages (from matplotlib) (0.11.0)\n",
      "Requirement already satisfied: pyparsing>=2.2.1 in /opt/homebrew/Caskroom/miniforge/base/envs/mlp/lib/python3.8/site-packages (from matplotlib) (3.0.9)\n",
      "Requirement already satisfied: fonttools>=4.22.0 in /opt/homebrew/Caskroom/miniforge/base/envs/mlp/lib/python3.8/site-packages (from matplotlib) (4.33.3)\n",
      "Requirement already satisfied: kiwisolver>=1.0.1 in /opt/homebrew/Caskroom/miniforge/base/envs/mlp/lib/python3.8/site-packages (from matplotlib) (1.4.2)\n",
      "Requirement already satisfied: pillow>=6.2.0 in /opt/homebrew/Caskroom/miniforge/base/envs/mlp/lib/python3.8/site-packages (from matplotlib) (9.1.1)\n",
      "Requirement already satisfied: python-dateutil>=2.7 in /opt/homebrew/Caskroom/miniforge/base/envs/mlp/lib/python3.8/site-packages (from matplotlib) (2.8.2)\n",
      "Requirement already satisfied: six>=1.5 in /opt/homebrew/Caskroom/miniforge/base/envs/mlp/lib/python3.8/site-packages (from python-dateutil>=2.7->matplotlib) (1.15.0)\n"
     ]
    }
   ],
   "source": [
    "!pip3 install matplotlib"
   ]
  },
  {
   "cell_type": "code",
   "execution_count": 3,
   "metadata": {
    "scrolled": true
   },
   "outputs": [
    {
     "name": "stdout",
     "output_type": "stream",
     "text": [
      "Requirement already satisfied: scikit-learn in /opt/homebrew/Caskroom/miniforge/base/envs/mlp/lib/python3.8/site-packages (1.1.1)\n",
      "Requirement already satisfied: joblib>=1.0.0 in /opt/homebrew/Caskroom/miniforge/base/envs/mlp/lib/python3.8/site-packages (from scikit-learn) (1.1.0)\n",
      "Requirement already satisfied: numpy>=1.17.3 in /opt/homebrew/Caskroom/miniforge/base/envs/mlp/lib/python3.8/site-packages (from scikit-learn) (1.22.4)\n",
      "Requirement already satisfied: threadpoolctl>=2.0.0 in /opt/homebrew/Caskroom/miniforge/base/envs/mlp/lib/python3.8/site-packages (from scikit-learn) (3.1.0)\n",
      "Requirement already satisfied: scipy>=1.3.2 in /opt/homebrew/Caskroom/miniforge/base/envs/mlp/lib/python3.8/site-packages (from scikit-learn) (1.8.1)\n"
     ]
    }
   ],
   "source": [
    "!pip3 install -U scikit-learn"
   ]
  },
  {
   "cell_type": "code",
   "execution_count": 1,
   "metadata": {},
   "outputs": [],
   "source": [
    "import os\n",
    "import cv2\n",
    "import tarfile as tr\n",
    "import numpy as np\n",
    "import matplotlib.pyplot as plt\n",
    "from sklearn.model_selection import train_test_split\n",
    "import tensorflow as tf\n",
    "from tensorflow import keras\n",
    "from tensorflow.keras import layers"
   ]
  },
  {
   "cell_type": "code",
   "execution_count": 2,
   "metadata": {},
   "outputs": [
    {
     "data": {
      "text/plain": [
       "[PhysicalDevice(name='/physical_device:CPU:0', device_type='CPU'),\n",
       " PhysicalDevice(name='/physical_device:GPU:0', device_type='GPU')]"
      ]
     },
     "execution_count": 2,
     "metadata": {},
     "output_type": "execute_result"
    }
   ],
   "source": [
    "tf.config.list_physical_devices()"
   ]
  },
  {
   "cell_type": "code",
   "execution_count": 3,
   "metadata": {},
   "outputs": [],
   "source": [
    "from tensorflow.python.framework.ops import disable_eager_execution\n",
    "disable_eager_execution()"
   ]
  },
  {
   "cell_type": "code",
   "execution_count": 4,
   "metadata": {},
   "outputs": [],
   "source": [
    "f = tr.open('./UTKFace.tar')\n",
    "f.extractall('./images')\n",
    "f.close()"
   ]
  },
  {
   "cell_type": "code",
   "execution_count": 5,
   "metadata": {},
   "outputs": [],
   "source": [
    "path = './images/UTKFace/'\n",
    "for file in os.listdir(path):\n",
    "  source = path + file\n",
    "  x = file.split('.')\n",
    "  rename = x[0]+'.'+x[1]\n",
    "  dest = path + rename\n",
    "  os.rename(source,dest)\n",
    "\n",
    "#check = os.listdir(path)\n",
    "#print(check)  \n"
   ]
  },
  {
   "cell_type": "code",
   "execution_count": 6,
   "metadata": {},
   "outputs": [],
   "source": [
    "bug_image1 = path + '61_1_20170109142408075.jpg'\n",
    "bug_image2 = path + '39_1_20170116174525125.jpg'\n",
    "bug_image3 = path + '61_1_20170109150557335.jpg'\n",
    "os.remove(bug_image1)\n",
    "os.remove(bug_image2)\n",
    "os.remove(bug_image3)"
   ]
  },
  {
   "cell_type": "code",
   "execution_count": 7,
   "metadata": {},
   "outputs": [],
   "source": [
    "image = []\n",
    "labels = []\n",
    "path = './images/UTKFace/'\n",
    "for i in os.listdir(path):\n",
    "  sp = i.split('_')\n",
    "  ages = int(sp[0])\n",
    "  gender = int(sp[1])\n",
    "  ethnicity = int(sp[2])\n",
    "  labels.append([[ages],[gender],[ethnicity]])\n",
    "\n",
    "\n",
    "  img = cv2.imread(os.path.join(path,i))\n",
    "  img = cv2.resize(img,(128,128))\n",
    "  image.append(img)\n",
    "\n",
    "\n",
    "\n",
    "\n"
   ]
  },
  {
   "cell_type": "code",
   "execution_count": 8,
   "metadata": {},
   "outputs": [
    {
     "name": "stdout",
     "output_type": "stream",
     "text": [
      "[[71], [1], [0]]\n"
     ]
    }
   ],
   "source": [
    "print(labels[6])"
   ]
  },
  {
   "cell_type": "code",
   "execution_count": 9,
   "metadata": {},
   "outputs": [],
   "source": [
    "new_labels = labels[0:10000]"
   ]
  },
  {
   "cell_type": "code",
   "execution_count": 10,
   "metadata": {},
   "outputs": [
    {
     "name": "stdout",
     "output_type": "stream",
     "text": [
      "[[[26]\n",
      "  [ 0]\n",
      "  [ 1]]\n",
      "\n",
      " [[16]\n",
      "  [ 1]\n",
      "  [ 3]]]\n"
     ]
    }
   ],
   "source": [
    "Y = np.array(new_labels)\n",
    "print(Y[0:2])"
   ]
  },
  {
   "cell_type": "code",
   "execution_count": 11,
   "metadata": {},
   "outputs": [],
   "source": [
    "new_image = image[0:10000]"
   ]
  },
  {
   "cell_type": "code",
   "execution_count": 12,
   "metadata": {},
   "outputs": [],
   "source": [
    "X = np.array(new_image)"
   ]
  },
  {
   "cell_type": "code",
   "execution_count": 13,
   "metadata": {},
   "outputs": [],
   "source": [
    "X = X/255"
   ]
  },
  {
   "cell_type": "code",
   "execution_count": 14,
   "metadata": {},
   "outputs": [
    {
     "name": "stdout",
     "output_type": "stream",
     "text": [
      "(128, 128, 3)\n"
     ]
    }
   ],
   "source": [
    "print(X[0].shape)"
   ]
  },
  {
   "cell_type": "code",
   "execution_count": 15,
   "metadata": {},
   "outputs": [
    {
     "name": "stdout",
     "output_type": "stream",
     "text": [
      "(10000, 128, 128, 3)\n"
     ]
    }
   ],
   "source": [
    "print(X.shape)"
   ]
  },
  {
   "cell_type": "code",
   "execution_count": 16,
   "metadata": {},
   "outputs": [
    {
     "name": "stdout",
     "output_type": "stream",
     "text": [
      "(10000, 3, 1)\n"
     ]
    }
   ],
   "source": [
    "print(Y.shape)"
   ]
  },
  {
   "cell_type": "markdown",
   "metadata": {},
   "source": [
    "male :0 ; female:1,\n",
    "white:0 ; black:1 ; asian:2 ; indian:3 ; other:4"
   ]
  },
  {
   "cell_type": "code",
   "execution_count": 20,
   "metadata": {},
   "outputs": [
    {
     "data": {
      "text/plain": [
       "[]"
      ]
     },
     "execution_count": 20,
     "metadata": {},
     "output_type": "execute_result"
    },
    {
     "data": {
      "image/png": "[encoded data removed]",
      "text/plain": [
       "<Figure size 432x288 with 1 Axes>"
      ]
     },
     "metadata": {
      "needs_background": "light"
     },
     "output_type": "display_data"
    }
   ],
   "source": [
    "\n",
    "# counting number of males and females\n",
    "value,count = np.unique(Y[:,1],return_counts=True)\n",
    "plt.bar(['Male','Female'],count)\n",
    "plt.plot()\n"
   ]
  },
  {
   "cell_type": "code",
   "execution_count": 17,
   "metadata": {},
   "outputs": [
    {
     "name": "stdout",
     "output_type": "stream",
     "text": [
      "[0 1 2 3 4] [4293 1890 1415 1665  737]\n"
     ]
    },
    {
     "data": {
      "text/plain": [
       "[]"
      ]
     },
     "execution_count": 17,
     "metadata": {},
     "output_type": "execute_result"
    },
    {
     "data": {
      "image/png": "[encoded data removed]",
      "text/plain": [
       "<Figure size 432x288 with 1 Axes>"
      ]
     },
     "metadata": {
      "needs_background": "light"
     },
     "output_type": "display_data"
    }
   ],
   "source": [
    "\n",
    "val,cnt = np.unique(Y[:,2],return_counts=True)\n",
    "print(val,cnt)\n",
    "plt.bar(['White','Black','Asian','Indian','Other'],cnt)\n",
    "plt.plot()\n"
   ]
  },
  {
   "cell_type": "code",
   "execution_count": 18,
   "metadata": {},
   "outputs": [],
   "source": [
    "X_train,X_test,y_train,y_test = train_test_split(X,Y,test_size=0.2,random_state=41)"
   ]
  },
  {
   "cell_type": "code",
   "execution_count": 19,
   "metadata": {},
   "outputs": [
    {
     "data": {
      "text/plain": [
       "(8000, 128, 128, 3)"
      ]
     },
     "execution_count": 19,
     "metadata": {},
     "output_type": "execute_result"
    }
   ],
   "source": [
    "X_train.shape"
   ]
  },
  {
   "cell_type": "code",
   "execution_count": 20,
   "metadata": {},
   "outputs": [
    {
     "data": {
      "text/plain": [
       "(2000, 128, 128, 3)"
      ]
     },
     "execution_count": 20,
     "metadata": {},
     "output_type": "execute_result"
    }
   ],
   "source": [
    "X_test.shape"
   ]
  },
  {
   "cell_type": "markdown",
   "metadata": {},
   "source": [
    "Building AlexNet"
   ]
  },
  {
   "cell_type": "code",
   "execution_count": 27,
   "metadata": {},
   "outputs": [
    {
     "name": "stdout",
     "output_type": "stream",
     "text": [
      "Model: \"model_1\"\n",
      "_________________________________________________________________\n",
      " Layer (type)                Output Shape              Param #   \n",
      "=================================================================\n",
      " conv2d_5_input (InputLayer)  [(None, 128, 128, 3)]    0         \n",
      "                                                                 \n",
      " conv2d_5 (Conv2D)           (None, 32, 32, 96)        34944     \n",
      "                                                                 \n",
      " max_pooling2d_3 (MaxPooling  (None, 15, 15, 96)       0         \n",
      " 2D)                                                             \n",
      "                                                                 \n",
      " zero_padding2d_4 (ZeroPaddi  (None, 19, 19, 96)       0         \n",
      " ng2D)                                                           \n",
      "                                                                 \n",
      " conv2d_6 (Conv2D)           (None, 15, 15, 256)       614656    \n",
      "                                                                 \n",
      " max_pooling2d_4 (MaxPooling  (None, 7, 7, 256)        0         \n",
      " 2D)                                                             \n",
      "                                                                 \n",
      " zero_padding2d_5 (ZeroPaddi  (None, 9, 9, 256)        0         \n",
      " ng2D)                                                           \n",
      "                                                                 \n",
      " conv2d_7 (Conv2D)           (None, 7, 7, 384)         885120    \n",
      "                                                                 \n",
      " zero_padding2d_6 (ZeroPaddi  (None, 9, 9, 384)        0         \n",
      " ng2D)                                                           \n",
      "                                                                 \n",
      " conv2d_8 (Conv2D)           (None, 7, 7, 384)         1327488   \n",
      "                                                                 \n",
      " zero_padding2d_7 (ZeroPaddi  (None, 9, 9, 384)        0         \n",
      " ng2D)                                                           \n",
      "                                                                 \n",
      " conv2d_9 (Conv2D)           (None, 7, 7, 256)         884992    \n",
      "                                                                 \n",
      " max_pooling2d_5 (MaxPooling  (None, 3, 3, 256)        0         \n",
      " 2D)                                                             \n",
      "                                                                 \n",
      " dropout_2 (Dropout)         (None, 3, 3, 256)         0         \n",
      "                                                                 \n",
      " flatten_1 (Flatten)         (None, 2304)              0         \n",
      "                                                                 \n",
      " dense_2 (Dense)             (None, 4096)              9441280   \n",
      "                                                                 \n",
      " dropout_3 (Dropout)         (None, 4096)              0         \n",
      "                                                                 \n",
      " dense_3 (Dense)             (None, 4096)              16781312  \n",
      "                                                                 \n",
      " age (Dense)                 (None, 1)                 4097      \n",
      "                                                                 \n",
      " gender (Dense)              (None, 1)                 2         \n",
      "                                                                 \n",
      " ethnicity (Dense)           (None, 1)                 2         \n",
      "                                                                 \n",
      "=================================================================\n",
      "Total params: 29,973,893\n",
      "Trainable params: 29,973,893\n",
      "Non-trainable params: 0\n",
      "_________________________________________________________________\n"
     ]
    }
   ],
   "source": [
    "model = keras.Sequential()\n",
    "model.add(layers.Conv2D(96,(11,11),strides=(4,4),padding='same',activation='relu',input_shape=(128,128,3)))\n",
    "model.add(layers.MaxPool2D((3,3),strides=(2,2)))\n",
    "model.add(layers.ZeroPadding2D(padding=(2,2)))\n",
    "model.add(layers.Conv2D(256,(5,5),strides=(1,1),padding='valid',activation='relu'))\n",
    "model.add(layers.MaxPool2D((3,3),strides=(2,2)))\n",
    "model.add(layers.ZeroPadding2D(padding=(1,1)))\n",
    "model.add(layers.Conv2D(384,(3,3),strides=(1,1),padding='valid',activation='relu'))\n",
    "model.add(layers.ZeroPadding2D(padding=(1,1)))\n",
    "model.add(layers.Conv2D(384,(3,3),strides=(1,1),padding='valid',activation='relu'))\n",
    "model.add(layers.ZeroPadding2D(padding=(1,1)))\n",
    "model.add(layers.Conv2D(256,(3,3),strides=(1,1),padding='valid',activation='relu'))\n",
    "model.add(layers.MaxPool2D((3,3),strides=(2,2)))\n",
    "model.add(layers.Dropout(rate=0.5))\n",
    "\n",
    "model.add(layers.Flatten())\n",
    "model.add(layers.Dense(4096,activation='relu'))\n",
    "model.add(layers.Dropout(rate=0.5))\n",
    "model.add(layers.Dense(4096,activation='relu'))\n",
    "\n",
    "model.add(layers.Dense(1,activation='relu',name='age'))\n",
    "model.add(layers.Dense(1,activation='sigmoid',name='gender'))\n",
    "model.add(layers.Dense(1,activation='softmax',name='ethnicity'))\n",
    "\n",
    "model2 = keras.Model(inputs = model.inputs,outputs=[model.get_layer(name='age').output, model.get_layer(name='gender').output,model.get_layer(name='ethnicity').output])\n",
    "\n",
    "model2.compile(optimizer='adam',loss=['mse','binary_crossentropy','sparse_categorical_crossentropy'],metrics=['accuracy'])\n",
    "\n",
    "model2.summary()\n",
    "\n",
    "\n"
   ]
  },
  {
   "cell_type": "code",
   "execution_count": 28,
   "metadata": {},
   "outputs": [
    {
     "name": "stdout",
     "output_type": "stream",
     "text": [
      "[[0]\n",
      " [0]\n",
      " [0]\n",
      " ...\n",
      " [1]\n",
      " [1]\n",
      " [0]]\n"
     ]
    }
   ],
   "source": [
    "y_train_final = [y_train[:,0],y_train[:,1],y_train[:,2]]\n",
    "print(y_train_final[1])"
   ]
  },
  {
   "cell_type": "code",
   "execution_count": 29,
   "metadata": {},
   "outputs": [
    {
     "name": "stdout",
     "output_type": "stream",
     "text": [
      "[[55]\n",
      " [ 2]\n",
      " [31]\n",
      " ...\n",
      " [45]\n",
      " [54]\n",
      " [38]]\n"
     ]
    }
   ],
   "source": [
    "y_test_final = [y_test[:,0],y_test[:,1],y_test[:,2]]\n",
    "print(y_test_final[0])"
   ]
  },
  {
   "cell_type": "code",
   "execution_count": 30,
   "metadata": {},
   "outputs": [
    {
     "name": "stdout",
     "output_type": "stream",
     "text": [
      "Train on 8000 samples, validate on 2000 samples\n",
      "Metal device set to: Apple M1\n"
     ]
    },
    {
     "name": "stderr",
     "output_type": "stream",
     "text": [
      "2022-06-22 16:17:44.093896: I tensorflow/core/common_runtime/pluggable_device/pluggable_device_factory.cc:305] Could not identify NUMA node of platform GPU ID 0, defaulting to 0. Your kernel may not have been built with NUMA support.\n",
      "2022-06-22 16:17:44.095013: I tensorflow/core/common_runtime/pluggable_device/pluggable_device_factory.cc:271] Created TensorFlow device (/job:localhost/replica:0/task:0/device:GPU:0 with 0 MB memory) -> physical PluggableDevice (device: 0, name: METAL, pci bus id: <undefined>)\n",
      "2022-06-22 16:17:44.122971: I tensorflow/compiler/mlir/mlir_graph_optimization_pass.cc:354] MLIR V1 optimization pass is not enabled\n",
      "2022-06-22 16:17:44.142363: W tensorflow/core/platform/profile_utils/cpu_utils.cc:128] Failed to get CPU frequency: 0 Hz\n",
      "2022-06-22 16:17:44.149143: I tensorflow/core/grappler/optimizers/custom_graph_optimizer_registry.cc:113] Plugin optimizer for device_type GPU is enabled.\n",
      "2022-06-22 16:17:44.216279: I tensorflow/core/grappler/optimizers/custom_graph_optimizer_registry.cc:113] Plugin optimizer for device_type GPU is enabled.\n"
     ]
    },
    {
     "name": "stdout",
     "output_type": "stream",
     "text": [
      "Epoch 1/20\n"
     ]
    },
    {
     "name": "stderr",
     "output_type": "stream",
     "text": [
      "2022-06-22 16:17:44.848422: I tensorflow/core/grappler/optimizers/custom_graph_optimizer_registry.cc:113] Plugin optimizer for device_type GPU is enabled.\n",
      "2022-06-22 16:17:44.875093: I tensorflow/core/grappler/optimizers/custom_graph_optimizer_registry.cc:113] Plugin optimizer for device_type GPU is enabled.\n",
      "2022-06-22 16:17:44.898758: I tensorflow/core/grappler/optimizers/custom_graph_optimizer_registry.cc:113] Plugin optimizer for device_type GPU is enabled.\n",
      "2022-06-22 16:17:44.921624: I tensorflow/core/grappler/optimizers/custom_graph_optimizer_registry.cc:113] Plugin optimizer for device_type GPU is enabled.\n",
      "2022-06-22 16:17:44.944852: I tensorflow/core/grappler/optimizers/custom_graph_optimizer_registry.cc:113] Plugin optimizer for device_type GPU is enabled.\n",
      "2022-06-22 16:17:44.967254: I tensorflow/core/grappler/optimizers/custom_graph_optimizer_registry.cc:113] Plugin optimizer for device_type GPU is enabled.\n",
      "2022-06-22 16:17:45.013009: I tensorflow/core/grappler/optimizers/custom_graph_optimizer_registry.cc:113] Plugin optimizer for device_type GPU is enabled.\n"
     ]
    },
    {
     "name": "stdout",
     "output_type": "stream",
     "text": [
      "8000/8000 [==============================] - ETA: 0s - loss: 509.8120 - age_loss: 488.6196 - gender_loss: 21.1924 - ethnicity_loss: 0.0000e+00 - age_accuracy: 0.0466 - gender_accuracy: 0.4765 - ethnicity_accuracy: 0.1880"
     ]
    },
    {
     "name": "stderr",
     "output_type": "stream",
     "text": [
      "/opt/homebrew/Caskroom/miniforge/base/envs/mlp/lib/python3.8/site-packages/keras/engine/training_v1.py:2045: UserWarning: `Model.state_updates` will be removed in a future version. This property should not be used in TensorFlow 2.0, as `updates` are applied automatically.\n",
      "  updates = self.state_updates\n",
      "2022-06-22 16:18:20.483570: I tensorflow/core/grappler/optimizers/custom_graph_optimizer_registry.cc:113] Plugin optimizer for device_type GPU is enabled.\n"
     ]
    },
    {
     "name": "stdout",
     "output_type": "stream",
     "text": [
      "8000/8000 [==============================] - 39s 5ms/sample - loss: 509.8120 - age_loss: 488.6196 - gender_loss: 21.1924 - ethnicity_loss: 0.0000e+00 - age_accuracy: 0.0466 - gender_accuracy: 0.4765 - ethnicity_accuracy: 0.1880 - val_loss: 440.5252 - val_age_loss: 423.3851 - val_gender_loss: 19.4984 - val_ethnicity_loss: 0.0000e+00 - val_age_accuracy: 0.0540 - val_gender_accuracy: 0.4650 - val_ethnicity_accuracy: 0.1930\n",
      "Epoch 2/20\n",
      "8000/8000 [==============================] - 38s 5ms/sample - loss: 427.8351 - age_loss: 409.5243 - gender_loss: 18.3108 - ethnicity_loss: 0.0000e+00 - age_accuracy: 0.0473 - gender_accuracy: 0.4764 - ethnicity_accuracy: 0.1880 - val_loss: 442.9974 - val_age_loss: 427.1253 - val_gender_loss: 14.7643 - val_ethnicity_loss: 0.0000e+00 - val_age_accuracy: 0.0540 - val_gender_accuracy: 0.4650 - val_ethnicity_accuracy: 0.1930\n",
      "Epoch 3/20\n",
      "8000/8000 [==============================] - 39s 5ms/sample - loss: 417.6652 - age_loss: 403.7153 - gender_loss: 13.9499 - ethnicity_loss: 0.0000e+00 - age_accuracy: 0.0473 - gender_accuracy: 0.4764 - ethnicity_accuracy: 0.1880 - val_loss: 438.9605 - val_age_loss: 428.9828 - val_gender_loss: 10.6790 - val_ethnicity_loss: 0.0000e+00 - val_age_accuracy: 0.0540 - val_gender_accuracy: 0.4650 - val_ethnicity_accuracy: 0.1930\n",
      "Epoch 4/20\n",
      "8000/8000 [==============================] - 39s 5ms/sample - loss: 415.0053 - age_loss: 405.4350 - gender_loss: 9.5703 - ethnicity_loss: 0.0000e+00 - age_accuracy: 0.0473 - gender_accuracy: 0.4764 - ethnicity_accuracy: 0.1880 - val_loss: 440.3973 - val_age_loss: 434.7014 - val_gender_loss: 6.5081 - val_ethnicity_loss: 0.0000e+00 - val_age_accuracy: 0.0540 - val_gender_accuracy: 0.4650 - val_ethnicity_accuracy: 0.1930\n",
      "Epoch 5/20\n",
      "8000/8000 [==============================] - 39s 5ms/sample - loss: 409.8564 - age_loss: 404.6933 - gender_loss: 5.1633 - ethnicity_loss: 0.0000e+00 - age_accuracy: 0.0473 - gender_accuracy: 0.4764 - ethnicity_accuracy: 0.1880 - val_loss: 441.1793 - val_age_loss: 439.0642 - val_gender_loss: 2.5342 - val_ethnicity_loss: 0.0000e+00 - val_age_accuracy: 0.0540 - val_gender_accuracy: 0.4650 - val_ethnicity_accuracy: 0.1930\n",
      "Epoch 6/20\n",
      "8000/8000 [==============================] - 39s 5ms/sample - loss: 406.6512 - age_loss: 405.2192 - gender_loss: 1.4322 - ethnicity_loss: 0.0000e+00 - age_accuracy: 0.0473 - gender_accuracy: 0.4759 - ethnicity_accuracy: 0.1880 - val_loss: 411.5797 - val_age_loss: 408.7562 - val_gender_loss: 0.7603 - val_ethnicity_loss: 0.0000e+00 - val_age_accuracy: 0.0540 - val_gender_accuracy: 0.4670 - val_ethnicity_accuracy: 0.1930\n",
      "Epoch 7/20\n",
      "8000/8000 [==============================] - 38s 5ms/sample - loss: 401.5178 - age_loss: 400.7643 - gender_loss: 0.7536 - ethnicity_loss: 0.0000e+00 - age_accuracy: 0.0473 - gender_accuracy: 0.4759 - ethnicity_accuracy: 0.1880 - val_loss: 420.7522 - val_age_loss: 418.2500 - val_gender_loss: 0.7281 - val_ethnicity_loss: 0.0000e+00 - val_age_accuracy: 0.0540 - val_gender_accuracy: 0.4650 - val_ethnicity_accuracy: 0.1930\n",
      "Epoch 8/20\n",
      "8000/8000 [==============================] - 40s 5ms/sample - loss: 400.1958 - age_loss: 399.4352 - gender_loss: 0.7607 - ethnicity_loss: 0.0000e+00 - age_accuracy: 0.0473 - gender_accuracy: 0.4763 - ethnicity_accuracy: 0.1880 - val_loss: 409.1712 - val_age_loss: 408.3671 - val_gender_loss: 0.7913 - val_ethnicity_loss: 0.0000e+00 - val_age_accuracy: 0.0540 - val_gender_accuracy: 0.4650 - val_ethnicity_accuracy: 0.1930\n",
      "Epoch 9/20\n",
      "8000/8000 [==============================] - 44s 6ms/sample - loss: 399.4553 - age_loss: 398.6743 - gender_loss: 0.7808 - ethnicity_loss: 0.0000e+00 - age_accuracy: 0.0473 - gender_accuracy: 0.4758 - ethnicity_accuracy: 0.1880 - val_loss: 413.8056 - val_age_loss: 411.3755 - val_gender_loss: 0.7713 - val_ethnicity_loss: 0.0000e+00 - val_age_accuracy: 0.0540 - val_gender_accuracy: 0.4650 - val_ethnicity_accuracy: 0.1930\n",
      "Epoch 10/20\n",
      "8000/8000 [==============================] - 40s 5ms/sample - loss: 398.9604 - age_loss: 398.1609 - gender_loss: 0.7996 - ethnicity_loss: 0.0000e+00 - age_accuracy: 0.0473 - gender_accuracy: 0.4753 - ethnicity_accuracy: 0.1880 - val_loss: 448.8341 - val_age_loss: 450.0443 - val_gender_loss: 0.7345 - val_ethnicity_loss: 0.0000e+00 - val_age_accuracy: 0.0540 - val_gender_accuracy: 0.4650 - val_ethnicity_accuracy: 0.1930\n",
      "Epoch 11/20\n",
      "8000/8000 [==============================] - 38s 5ms/sample - loss: 400.4429 - age_loss: 399.6290 - gender_loss: 0.8138 - ethnicity_loss: 0.0000e+00 - age_accuracy: 0.0473 - gender_accuracy: 0.4766 - ethnicity_accuracy: 0.1880 - val_loss: 459.6266 - val_age_loss: 459.1938 - val_gender_loss: 0.7410 - val_ethnicity_loss: 0.0000e+00 - val_age_accuracy: 0.0535 - val_gender_accuracy: 0.4650 - val_ethnicity_accuracy: 0.1930\n",
      "Epoch 12/20\n",
      "8000/8000 [==============================] - 43s 5ms/sample - loss: 400.0766 - age_loss: 399.2372 - gender_loss: 0.8395 - ethnicity_loss: 0.0000e+00 - age_accuracy: 0.0473 - gender_accuracy: 0.4761 - ethnicity_accuracy: 0.1880 - val_loss: 419.1599 - val_age_loss: 416.9420 - val_gender_loss: 0.8281 - val_ethnicity_loss: 0.0000e+00 - val_age_accuracy: 0.0540 - val_gender_accuracy: 0.4650 - val_ethnicity_accuracy: 0.1930\n",
      "Epoch 13/20\n",
      "8000/8000 [==============================] - 38s 5ms/sample - loss: 399.7952 - age_loss: 398.9312 - gender_loss: 0.8640 - ethnicity_loss: 0.0000e+00 - age_accuracy: 0.0473 - gender_accuracy: 0.4760 - ethnicity_accuracy: 0.1880 - val_loss: 410.8057 - val_age_loss: 410.4416 - val_gender_loss: 0.8572 - val_ethnicity_loss: 0.0000e+00 - val_age_accuracy: 0.0540 - val_gender_accuracy: 0.4655 - val_ethnicity_accuracy: 0.1930\n",
      "Epoch 14/20\n",
      "8000/8000 [==============================] - 37s 5ms/sample - loss: 399.8788 - age_loss: 398.9948 - gender_loss: 0.8840 - ethnicity_loss: 0.0000e+00 - age_accuracy: 0.0473 - gender_accuracy: 0.4758 - ethnicity_accuracy: 0.1880 - val_loss: 411.7028 - val_age_loss: 411.1142 - val_gender_loss: 0.8683 - val_ethnicity_loss: 0.0000e+00 - val_age_accuracy: 0.0540 - val_gender_accuracy: 0.4655 - val_ethnicity_accuracy: 0.1930\n",
      "Epoch 15/20\n",
      "8000/8000 [==============================] - 39s 5ms/sample - loss: 400.9356 - age_loss: 400.0295 - gender_loss: 0.9061 - ethnicity_loss: 0.0000e+00 - age_accuracy: 0.0473 - gender_accuracy: 0.4755 - ethnicity_accuracy: 0.1880 - val_loss: 412.9976 - val_age_loss: 412.8497 - val_gender_loss: 0.8833 - val_ethnicity_loss: 0.0000e+00 - val_age_accuracy: 0.0540 - val_gender_accuracy: 0.4650 - val_ethnicity_accuracy: 0.1930\n",
      "Epoch 16/20\n",
      "8000/8000 [==============================] - 39s 5ms/sample - loss: 397.6297 - age_loss: 396.7013 - gender_loss: 0.9283 - ethnicity_loss: 0.0000e+00 - age_accuracy: 0.0473 - gender_accuracy: 0.4764 - ethnicity_accuracy: 0.1880 - val_loss: 421.0760 - val_age_loss: 420.5100 - val_gender_loss: 0.8579 - val_ethnicity_loss: 0.0000e+00 - val_age_accuracy: 0.0540 - val_gender_accuracy: 0.4650 - val_ethnicity_accuracy: 0.1930\n",
      "Epoch 17/20\n",
      "8000/8000 [==============================] - 40s 5ms/sample - loss: 413.7080 - age_loss: 412.7632 - gender_loss: 0.9448 - ethnicity_loss: 0.0000e+00 - age_accuracy: 0.0473 - gender_accuracy: 0.4761 - ethnicity_accuracy: 0.1880 - val_loss: 438.5734 - val_age_loss: 439.7369 - val_gender_loss: 0.8896 - val_ethnicity_loss: 0.0000e+00 - val_age_accuracy: 0.0540 - val_gender_accuracy: 0.4650 - val_ethnicity_accuracy: 0.1930\n",
      "Epoch 18/20\n",
      "8000/8000 [==============================] - 38s 5ms/sample - loss: 399.4696 - age_loss: 398.4970 - gender_loss: 0.9725 - ethnicity_loss: 0.0000e+00 - age_accuracy: 0.0473 - gender_accuracy: 0.4766 - ethnicity_accuracy: 0.1880 - val_loss: 442.1738 - val_age_loss: 439.4337 - val_gender_loss: 0.8640 - val_ethnicity_loss: 0.0000e+00 - val_age_accuracy: 0.0540 - val_gender_accuracy: 0.4650 - val_ethnicity_accuracy: 0.1930\n",
      "Epoch 19/20\n",
      "8000/8000 [==============================] - 39s 5ms/sample - loss: 399.7987 - age_loss: 398.8086 - gender_loss: 0.9902 - ethnicity_loss: 0.0000e+00 - age_accuracy: 0.0473 - gender_accuracy: 0.4764 - ethnicity_accuracy: 0.1880 - val_loss: 423.4551 - val_age_loss: 422.8562 - val_gender_loss: 0.9586 - val_ethnicity_loss: 0.0000e+00 - val_age_accuracy: 0.0540 - val_gender_accuracy: 0.4650 - val_ethnicity_accuracy: 0.1930\n"
     ]
    },
    {
     "name": "stdout",
     "output_type": "stream",
     "text": [
      "Epoch 20/20\n",
      "8000/8000 [==============================] - 38s 5ms/sample - loss: 397.5109 - age_loss: 396.4966 - gender_loss: 1.0143 - ethnicity_loss: 0.0000e+00 - age_accuracy: 0.0473 - gender_accuracy: 0.4764 - ethnicity_accuracy: 0.1880 - val_loss: 425.3912 - val_age_loss: 423.3596 - val_gender_loss: 0.9664 - val_ethnicity_loss: 0.0000e+00 - val_age_accuracy: 0.0540 - val_gender_accuracy: 0.4650 - val_ethnicity_accuracy: 0.1930\n"
     ]
    }
   ],
   "source": [
    "train = model2.fit(X_train,y_train_final,batch_size=32,epochs=20,validation_data=(X_test,y_test_final),shuffle=True)"
   ]
  },
  {
   "cell_type": "code",
   "execution_count": 48,
   "metadata": {},
   "outputs": [
    {
     "name": "stdout",
     "output_type": "stream",
     "text": [
      "Actual Age: 24\n",
      "Actual Gender: Female\n",
      "Actual Ethnicity: Black\n",
      "Predicted Age: 30\n",
      "Predicted Gender: Female\n",
      "predicted Ethnicity: Black\n"
     ]
    }
   ],
   "source": [
    "img_files = os.listdir(path)\n",
    "i = 440\n",
    "\n",
    "gender = ['Male', 'Female']\n",
    "ethnicity = ['White','Black','Asian','Indian','other']\n",
    "print(\"Actual Age: \" + str(int(img_files[i].split('_')[0])))\n",
    "print(\"Actual Gender: \" + gender[int(img_files[i].split('_')[1])])\n",
    "print(\"Actual Ethnicity: \"+ethnicity[int(img_files[i].split('_')[2])])\n",
    "\n",
    "test = X[i]\n",
    "prediction = model2.predict(np.array([test]))\n",
    "print(\"Predicted Age: \" + str(int(np.round(prediction[0][0]))))\n",
    "print(\"Predicted Gender: \" + gender[int(np.round(prediction[1][0]))])\n",
    "print(\"predicted Ethnicity: \" + ethnicity[int(np.round(prediction[2][0]))])"
   ]
  },
  {
   "cell_type": "code",
   "execution_count": null,
   "metadata": {},
   "outputs": [],
   "source": []
  }
 ],
 "metadata": {
  "interpreter": {
   "hash": "31f2aee4e71d21fbe5cf8b01ff0e069b9275f58929596ceb00d14d90e3e16cd6"
  },
  "kernelspec": {
   "display_name": "Python 3 (ipykernel)",
   "language": "python",
   "name": "python3"
  },
  "language_info": {
   "codemirror_mode": {
    "name": "ipython",
    "version": 3
   },
   "file_extension": ".py",
   "mimetype": "text/x-python",
   "name": "python",
   "nbconvert_exporter": "python",
   "pygments_lexer": "ipython3",
   "version": "3.8.9"
  }
 },
 "nbformat": 4,
 "nbformat_minor": 2
}
